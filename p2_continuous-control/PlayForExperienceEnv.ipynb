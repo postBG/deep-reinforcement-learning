{
  "cells": [
    {
      "cell_type": "markdown",
      "metadata": {
        "pycharm": {}
      },
      "source": [
        "# Play with Environment\n",
        "\n",
        "---\n",
        "\n",
        "In this notebook, you will learn how to use the Unity ML-Agents environment for the second project of the [Deep Reinforcement Learning Nanodegree](https://www.udacity.com/course/deep-reinforcement-learning-nanodegree--nd893) program.\n",
        "\n",
        "### 1. Start the Environment\n",
        "\n",
        "We begin by importing the necessary packages.  If the code cell below returns an error, please revisit the project instructions to double-check that you have installed [Unity ML-Agents](https://github.com/Unity-Technologies/ml-agents/blob/master/docs/Installation.md) and [NumPy](http://www.numpy.org/)."
      ]
    },
    {
      "cell_type": "code",
      "execution_count": 1,
      "metadata": {
        "pycharm": {
          "is_executing": false
        }
      },
      "outputs": [],
      "source": [
        "from unityagents import UnityEnvironment\n",
        "import numpy as np"
      ]
    },
    {
      "cell_type": "markdown",
      "metadata": {
        "pycharm": {}
      },
      "source": [
        "Next, we will start the environment!  **_Before running the code cell below_**, change the `file_name` parameter to match the location of the Unity environment that you downloaded.\n",
        "\n",
        "- **Mac**: `\"path/to/Reacher.app\"`\n",
        "- **Windows** (x86): `\"path/to/Reacher_Windows_x86/Reacher.exe\"`\n",
        "- **Windows** (x86_64): `\"path/to/Reacher_Windows_x86_64/Reacher.exe\"`\n",
        "- **Linux** (x86): `\"path/to/Reacher_Linux/Reacher.x86\"`\n",
        "- **Linux** (x86_64): `\"path/to/Reacher_Linux/Reacher.x86_64\"`\n",
        "- **Linux** (x86, headless): `\"path/to/Reacher_Linux_NoVis/Reacher.x86\"`\n",
        "- **Linux** (x86_64, headless): `\"path/to/Reacher_Linux_NoVis/Reacher.x86_64\"`\n",
        "\n",
        "For instance, if you are using a Mac, then you downloaded `Reacher.app`.  If this file is in the same folder as the notebook, then the line below should appear as follows:\n",
        "```\n",
        "env \u003d UnityEnvironment(file_name\u003d\"Reacher.app\")\n",
        "```"
      ]
    },
    {
      "cell_type": "code",
      "execution_count": 2,
      "metadata": {
        "pycharm": {
          "is_executing": false
        }
      },
      "outputs": [
        {
          "name": "stderr",
          "text": [
            "INFO:unityagents:\n\u0027Academy\u0027 started successfully!\nUnity Academy name: Academy\n        Number of Brains: 1\n        Number of External Brains : 1\n        Lesson number : 0\n        Reset Parameters :\n\t\tgoal_speed -\u003e 1.0\n\t\tgoal_size -\u003e 5.0\nUnity brain name: ReacherBrain\n        Number of Visual Observations (per agent): 0\n        Vector Observation space type: continuous\n        Vector Observation space size (per agent): 33\n        Number of stacked Vector Observation: 1\n        Vector Action space type: continuous\n        Vector Action space size (per agent): 4\n        Vector Action descriptions: , , , \n"
          ],
          "output_type": "stream"
        }
      ],
      "source": [
        "env \u003d UnityEnvironment(file_name\u003d\u0027Reacher20/Reacher.app\u0027)"
      ]
    },
    {
      "cell_type": "markdown",
      "metadata": {
        "pycharm": {}
      },
      "source": [
        "Environments contain **_brains_** which are responsible for deciding the actions of their associated agents. Here we check for the first brain available, and set it as the default brain we will be controlling from Python."
      ]
    },
    {
      "cell_type": "code",
      "execution_count": 6,
      "metadata": {
        "pycharm": {}
      },
      "outputs": [],
      "source": [
        "# get the default brain\n",
        "brain_name \u003d env.brain_names[0]\n",
        "brain \u003d env.brains[brain_name]"
      ]
    },
    {
      "cell_type": "markdown",
      "metadata": {
        "pycharm": {}
      },
      "source": [
        "### 2. Examine the State and Action Spaces\n",
        "\n",
        "In this environment, a double-jointed arm can move to target locations. A reward of `+0.1` is provided for each step that the agent\u0027s hand is in the goal location. Thus, the goal of your agent is to maintain its position at the target location for as many time steps as possible.\n",
        "\n",
        "The observation space consists of `33` variables corresponding to position, rotation, velocity, and angular velocities of the arm.  Each action is a vector with four numbers, corresponding to torque applicable to two joints.  Every entry in the action vector must be a number between `-1` and `1`.\n",
        "\n",
        "Run the code cell below to print some information about the environment."
      ]
    },
    {
      "cell_type": "code",
      "execution_count": 7,
      "metadata": {
        "pycharm": {}
      },
      "outputs": [],
      "source": [
        "env_info \u003d env.reset()[brain_name]\n",
        "num_agents \u003d len(env_info.agents)\n",
        "action_size \u003d brain.vector_action_space_size"
      ]
    },
    {
      "cell_type": "code",
      "execution_count": 8,
      "metadata": {
        "pycharm": {}
      },
      "outputs": [
        {
          "data": {
            "text/plain": [
              "array([[ 0.00000000e+00, -4.00000000e+00,  0.00000000e+00,\n",
              "         1.00000000e+00, -0.00000000e+00, -0.00000000e+00,\n",
              "        -4.37113883e-08,  0.00000000e+00,  0.00000000e+00,\n",
              "         0.00000000e+00,  0.00000000e+00,  0.00000000e+00,\n",
              "         0.00000000e+00,  0.00000000e+00, -1.00000000e+01,\n",
              "         0.00000000e+00,  1.00000000e+00, -0.00000000e+00,\n",
              "        -0.00000000e+00, -4.37113883e-08,  0.00000000e+00,\n",
              "         0.00000000e+00,  0.00000000e+00,  0.00000000e+00,\n",
              "         0.00000000e+00,  0.00000000e+00,  5.75471878e+00,\n",
              "        -1.00000000e+00,  5.55726624e+00,  0.00000000e+00,\n",
              "         1.00000000e+00,  0.00000000e+00, -1.68164849e-01],\n",
              "       [ 0.00000000e+00, -4.00000000e+00,  0.00000000e+00,\n",
              "         1.00000000e+00, -0.00000000e+00, -0.00000000e+00,\n",
              "        -4.37113883e-08,  0.00000000e+00,  0.00000000e+00,\n",
              "         0.00000000e+00,  0.00000000e+00,  0.00000000e+00,\n",
              "         0.00000000e+00,  0.00000000e+00, -1.00000000e+01,\n",
              "         0.00000000e+00,  1.00000000e+00, -0.00000000e+00,\n",
              "        -0.00000000e+00, -4.37113883e-08,  0.00000000e+00,\n",
              "         0.00000000e+00,  0.00000000e+00,  0.00000000e+00,\n",
              "         0.00000000e+00,  0.00000000e+00, -6.30408478e+00,\n",
              "        -1.00000000e+00, -4.92529297e+00,  0.00000000e+00,\n",
              "         1.00000000e+00,  0.00000000e+00, -5.33014059e-01],\n",
              "       [ 0.00000000e+00, -4.00000000e+00,  0.00000000e+00,\n",
              "         1.00000000e+00, -0.00000000e+00, -0.00000000e+00,\n",
              "        -4.37113883e-08,  0.00000000e+00,  0.00000000e+00,\n",
              "         0.00000000e+00,  0.00000000e+00,  0.00000000e+00,\n",
              "         0.00000000e+00,  0.00000000e+00, -1.00000000e+01,\n",
              "         0.00000000e+00,  1.00000000e+00, -0.00000000e+00,\n",
              "        -0.00000000e+00, -4.37113883e-08,  0.00000000e+00,\n",
              "         0.00000000e+00,  0.00000000e+00,  0.00000000e+00,\n",
              "         0.00000000e+00,  0.00000000e+00,  7.90150833e+00,\n",
              "        -1.00000000e+00,  1.25147438e+00,  0.00000000e+00,\n",
              "         1.00000000e+00,  0.00000000e+00, -2.99753308e-01],\n",
              "       [ 0.00000000e+00, -4.00000000e+00,  0.00000000e+00,\n",
              "         1.00000000e+00, -0.00000000e+00, -0.00000000e+00,\n",
              "        -4.37113883e-08,  0.00000000e+00,  0.00000000e+00,\n",
              "         0.00000000e+00,  0.00000000e+00,  0.00000000e+00,\n",
              "         0.00000000e+00,  0.00000000e+00, -1.00000000e+01,\n",
              "         0.00000000e+00,  1.00000000e+00, -0.00000000e+00,\n",
              "        -0.00000000e+00, -4.37113883e-08,  0.00000000e+00,\n",
              "         0.00000000e+00,  0.00000000e+00,  0.00000000e+00,\n",
              "         0.00000000e+00,  0.00000000e+00,  3.50696945e+00,\n",
              "        -1.00000000e+00, -7.19035244e+00,  0.00000000e+00,\n",
              "         1.00000000e+00,  0.00000000e+00, -3.66842747e-03],\n",
              "       [ 0.00000000e+00, -4.00000000e+00,  0.00000000e+00,\n",
              "         1.00000000e+00, -0.00000000e+00, -0.00000000e+00,\n",
              "        -4.37113883e-08,  0.00000000e+00,  0.00000000e+00,\n",
              "         0.00000000e+00,  0.00000000e+00,  0.00000000e+00,\n",
              "         0.00000000e+00,  0.00000000e+00, -1.00000000e+01,\n",
              "         0.00000000e+00,  1.00000000e+00, -0.00000000e+00,\n",
              "        -0.00000000e+00, -4.37113883e-08,  0.00000000e+00,\n",
              "         0.00000000e+00,  0.00000000e+00,  0.00000000e+00,\n",
              "         0.00000000e+00,  0.00000000e+00, -4.23935413e+00,\n",
              "        -1.00000000e+00,  6.78438473e+00,  0.00000000e+00,\n",
              "         1.00000000e+00,  0.00000000e+00,  7.30195284e-01],\n",
              "       [ 0.00000000e+00, -4.00000000e+00,  0.00000000e+00,\n",
              "         1.00000000e+00, -0.00000000e+00, -0.00000000e+00,\n",
              "        -4.37113883e-08,  0.00000000e+00,  0.00000000e+00,\n",
              "         0.00000000e+00,  0.00000000e+00,  0.00000000e+00,\n",
              "         0.00000000e+00,  0.00000000e+00, -1.00000000e+01,\n",
              "         0.00000000e+00,  1.00000000e+00, -0.00000000e+00,\n",
              "        -0.00000000e+00, -4.37113883e-08,  0.00000000e+00,\n",
              "         0.00000000e+00,  0.00000000e+00,  0.00000000e+00,\n",
              "         0.00000000e+00,  0.00000000e+00, -1.11338425e+00,\n",
              "        -1.00000000e+00, -7.92214394e+00,  0.00000000e+00,\n",
              "         1.00000000e+00,  0.00000000e+00, -2.76705861e-01],\n",
              "       [ 0.00000000e+00, -4.00000000e+00,  0.00000000e+00,\n",
              "         1.00000000e+00, -0.00000000e+00, -0.00000000e+00,\n",
              "        -4.37113883e-08,  0.00000000e+00,  0.00000000e+00,\n",
              "         0.00000000e+00,  0.00000000e+00,  0.00000000e+00,\n",
              "         0.00000000e+00,  0.00000000e+00, -1.00000000e+01,\n",
              "         0.00000000e+00,  1.00000000e+00, -0.00000000e+00,\n",
              "        -0.00000000e+00, -4.37113883e-08,  0.00000000e+00,\n",
              "         0.00000000e+00,  0.00000000e+00,  0.00000000e+00,\n",
              "         0.00000000e+00,  0.00000000e+00, -5.58052063e-01,\n",
              "        -1.00000000e+00,  7.98051262e+00,  0.00000000e+00,\n",
              "         1.00000000e+00,  0.00000000e+00, -5.37719965e-01],\n",
              "       [ 0.00000000e+00, -4.00000000e+00,  0.00000000e+00,\n",
              "         1.00000000e+00, -0.00000000e+00, -0.00000000e+00,\n",
              "        -4.37113883e-08,  0.00000000e+00,  0.00000000e+00,\n",
              "         0.00000000e+00,  0.00000000e+00,  0.00000000e+00,\n",
              "         0.00000000e+00,  0.00000000e+00, -1.00000000e+01,\n",
              "         0.00000000e+00,  1.00000000e+00, -0.00000000e+00,\n",
              "        -0.00000000e+00, -4.37113883e-08,  0.00000000e+00,\n",
              "         0.00000000e+00,  0.00000000e+00,  0.00000000e+00,\n",
              "         0.00000000e+00,  0.00000000e+00,  4.70228195e+00,\n",
              "        -1.00000000e+00, -6.47213650e+00,  0.00000000e+00,\n",
              "         1.00000000e+00,  0.00000000e+00,  3.79115552e-01],\n",
              "       [ 0.00000000e+00, -4.00000000e+00,  0.00000000e+00,\n",
              "         1.00000000e+00, -0.00000000e+00, -0.00000000e+00,\n",
              "        -4.37113883e-08,  0.00000000e+00,  0.00000000e+00,\n",
              "         0.00000000e+00,  0.00000000e+00,  0.00000000e+00,\n",
              "         0.00000000e+00,  0.00000000e+00, -1.00000000e+01,\n",
              "         0.00000000e+00,  1.00000000e+00, -0.00000000e+00,\n",
              "        -0.00000000e+00, -4.37113883e-08,  0.00000000e+00,\n",
              "         0.00000000e+00,  0.00000000e+00,  0.00000000e+00,\n",
              "         0.00000000e+00,  0.00000000e+00,  3.75577164e+00,\n",
              "        -1.00000000e+00, -7.06358051e+00,  0.00000000e+00,\n",
              "         1.00000000e+00,  0.00000000e+00,  4.44128722e-01],\n",
              "       [ 0.00000000e+00, -4.00000000e+00,  0.00000000e+00,\n",
              "         1.00000000e+00, -0.00000000e+00, -0.00000000e+00,\n",
              "        -4.37113883e-08,  0.00000000e+00,  0.00000000e+00,\n",
              "         0.00000000e+00,  0.00000000e+00,  0.00000000e+00,\n",
              "         0.00000000e+00,  0.00000000e+00, -1.00000000e+01,\n",
              "         0.00000000e+00,  1.00000000e+00, -0.00000000e+00,\n",
              "        -0.00000000e+00, -4.37113883e-08,  0.00000000e+00,\n",
              "         0.00000000e+00,  0.00000000e+00,  0.00000000e+00,\n",
              "         0.00000000e+00,  0.00000000e+00, -6.38908386e+00,\n",
              "        -1.00000000e+00,  4.81452179e+00,  0.00000000e+00,\n",
              "         1.00000000e+00,  0.00000000e+00, -9.72625017e-02],\n",
              "       [ 0.00000000e+00, -4.00000000e+00,  0.00000000e+00,\n",
              "         1.00000000e+00, -0.00000000e+00, -0.00000000e+00,\n",
              "        -4.37113883e-08,  0.00000000e+00,  0.00000000e+00,\n",
              "         0.00000000e+00,  0.00000000e+00,  0.00000000e+00,\n",
              "         0.00000000e+00,  0.00000000e+00, -1.00000000e+01,\n",
              "         0.00000000e+00,  1.00000000e+00, -0.00000000e+00,\n",
              "        -0.00000000e+00, -4.37113883e-08,  0.00000000e+00,\n",
              "         0.00000000e+00,  0.00000000e+00,  0.00000000e+00,\n",
              "         0.00000000e+00,  0.00000000e+00, -7.96955872e+00,\n",
              "        -1.00000000e+00,  6.97246552e-01,  0.00000000e+00,\n",
              "         1.00000000e+00,  0.00000000e+00,  5.51995516e-01],\n",
              "       [ 0.00000000e+00, -4.00000000e+00,  0.00000000e+00,\n",
              "         1.00000000e+00, -0.00000000e+00, -0.00000000e+00,\n",
              "        -4.37113883e-08,  0.00000000e+00,  0.00000000e+00,\n",
              "         0.00000000e+00,  0.00000000e+00,  0.00000000e+00,\n",
              "         0.00000000e+00,  0.00000000e+00, -1.00000000e+01,\n",
              "         0.00000000e+00,  1.00000000e+00, -0.00000000e+00,\n",
              "        -0.00000000e+00, -4.37113883e-08,  0.00000000e+00,\n",
              "         0.00000000e+00,  0.00000000e+00,  0.00000000e+00,\n",
              "         0.00000000e+00,  0.00000000e+00,  7.95617676e+00,\n",
              "        -1.00000000e+00, -8.36227417e-01,  0.00000000e+00,\n",
              "         1.00000000e+00,  0.00000000e+00, -2.56311893e-03],\n",
              "       [ 0.00000000e+00, -4.00000000e+00,  0.00000000e+00,\n",
              "         1.00000000e+00, -0.00000000e+00, -0.00000000e+00,\n",
              "        -4.37113883e-08,  0.00000000e+00,  0.00000000e+00,\n",
              "         0.00000000e+00,  0.00000000e+00,  0.00000000e+00,\n",
              "         0.00000000e+00,  0.00000000e+00, -1.00000000e+01,\n",
              "         0.00000000e+00,  1.00000000e+00, -0.00000000e+00,\n",
              "        -0.00000000e+00, -4.37113883e-08,  0.00000000e+00,\n",
              "         0.00000000e+00,  0.00000000e+00,  0.00000000e+00,\n",
              "         0.00000000e+00,  0.00000000e+00, -1.11338425e+00,\n",
              "        -1.00000000e+00,  7.92214394e+00,  0.00000000e+00,\n",
              "         1.00000000e+00,  0.00000000e+00,  4.55320328e-01],\n",
              "       [ 0.00000000e+00, -4.00000000e+00,  0.00000000e+00,\n",
              "         1.00000000e+00, -0.00000000e+00, -0.00000000e+00,\n",
              "        -4.37113883e-08,  0.00000000e+00,  0.00000000e+00,\n",
              "         0.00000000e+00,  0.00000000e+00,  0.00000000e+00,\n",
              "         0.00000000e+00,  0.00000000e+00, -1.00000000e+01,\n",
              "         0.00000000e+00,  1.00000000e+00, -0.00000000e+00,\n",
              "        -0.00000000e+00, -4.37113883e-08,  0.00000000e+00,\n",
              "         0.00000000e+00,  0.00000000e+00,  0.00000000e+00,\n",
              "         0.00000000e+00,  0.00000000e+00, -6.63230085e+00,\n",
              "        -1.00000000e+00, -4.47354126e+00,  0.00000000e+00,\n",
              "         1.00000000e+00,  0.00000000e+00, -5.30555487e-01],\n",
              "       [ 0.00000000e+00, -4.00000000e+00,  0.00000000e+00,\n",
              "         1.00000000e+00, -0.00000000e+00, -0.00000000e+00,\n",
              "        -4.37113883e-08,  0.00000000e+00,  0.00000000e+00,\n",
              "         0.00000000e+00,  0.00000000e+00,  0.00000000e+00,\n",
              "         0.00000000e+00,  0.00000000e+00, -1.00000000e+01,\n",
              "         0.00000000e+00,  1.00000000e+00, -0.00000000e+00,\n",
              "        -0.00000000e+00, -4.37113883e-08,  0.00000000e+00,\n",
              "         0.00000000e+00,  0.00000000e+00,  0.00000000e+00,\n",
              "         0.00000000e+00,  0.00000000e+00, -1.93537414e+00,\n",
              "        -1.00000000e+00,  7.76236725e+00,  0.00000000e+00,\n",
              "         1.00000000e+00,  0.00000000e+00,  9.24094200e-01],\n",
              "       [ 0.00000000e+00, -4.00000000e+00,  0.00000000e+00,\n",
              "         1.00000000e+00, -0.00000000e+00, -0.00000000e+00,\n",
              "        -4.37113883e-08,  0.00000000e+00,  0.00000000e+00,\n",
              "         0.00000000e+00,  0.00000000e+00,  0.00000000e+00,\n",
              "         0.00000000e+00,  0.00000000e+00, -1.00000000e+01,\n",
              "         0.00000000e+00,  1.00000000e+00, -0.00000000e+00,\n",
              "        -0.00000000e+00, -4.37113883e-08,  0.00000000e+00,\n",
              "         0.00000000e+00,  0.00000000e+00,  0.00000000e+00,\n",
              "         0.00000000e+00,  0.00000000e+00, -5.14229965e+00,\n",
              "        -1.00000000e+00,  6.12835693e+00,  0.00000000e+00,\n",
              "         1.00000000e+00,  0.00000000e+00,  3.78988951e-01],\n",
              "       [ 0.00000000e+00, -4.00000000e+00,  0.00000000e+00,\n",
              "         1.00000000e+00, -0.00000000e+00, -0.00000000e+00,\n",
              "        -4.37113883e-08,  0.00000000e+00,  0.00000000e+00,\n",
              "         0.00000000e+00,  0.00000000e+00,  0.00000000e+00,\n",
              "         0.00000000e+00,  0.00000000e+00, -1.00000000e+01,\n",
              "         0.00000000e+00,  1.00000000e+00, -0.00000000e+00,\n",
              "        -0.00000000e+00, -4.37113883e-08,  0.00000000e+00,\n",
              "         0.00000000e+00,  0.00000000e+00,  0.00000000e+00,\n",
              "         0.00000000e+00,  0.00000000e+00,  7.85301781e+00,\n",
              "        -1.00000000e+00, -1.52647400e+00,  0.00000000e+00,\n",
              "         1.00000000e+00,  0.00000000e+00,  9.57421303e-01],\n",
              "       [ 0.00000000e+00, -4.00000000e+00,  0.00000000e+00,\n",
              "         1.00000000e+00, -0.00000000e+00, -0.00000000e+00,\n",
              "        -4.37113883e-08,  0.00000000e+00,  0.00000000e+00,\n",
              "         0.00000000e+00,  0.00000000e+00,  0.00000000e+00,\n",
              "         0.00000000e+00,  0.00000000e+00, -1.00000000e+01,\n",
              "         0.00000000e+00,  1.00000000e+00, -0.00000000e+00,\n",
              "        -0.00000000e+00, -4.37113883e-08,  0.00000000e+00,\n",
              "         0.00000000e+00,  0.00000000e+00,  0.00000000e+00,\n",
              "         0.00000000e+00,  0.00000000e+00, -6.63230133e+00,\n",
              "        -1.00000000e+00,  4.47354126e+00,  0.00000000e+00,\n",
              "         1.00000000e+00,  0.00000000e+00,  2.88861483e-01],\n",
              "       [ 0.00000000e+00, -4.00000000e+00,  0.00000000e+00,\n",
              "         1.00000000e+00, -0.00000000e+00, -0.00000000e+00,\n",
              "        -4.37113883e-08,  0.00000000e+00,  0.00000000e+00,\n",
              "         0.00000000e+00,  0.00000000e+00,  0.00000000e+00,\n",
              "         0.00000000e+00,  0.00000000e+00, -1.00000000e+01,\n",
              "         0.00000000e+00,  1.00000000e+00, -0.00000000e+00,\n",
              "        -0.00000000e+00, -4.37113883e-08,  0.00000000e+00,\n",
              "         0.00000000e+00,  0.00000000e+00,  0.00000000e+00,\n",
              "         0.00000000e+00,  0.00000000e+00,  7.98051262e+00,\n",
              "        -1.00000000e+00, -5.58052063e-01,  0.00000000e+00,\n",
              "         1.00000000e+00,  0.00000000e+00,  5.96817732e-02],\n",
              "       [ 0.00000000e+00, -4.00000000e+00,  0.00000000e+00,\n",
              "         1.00000000e+00, -0.00000000e+00, -0.00000000e+00,\n",
              "        -4.37113883e-08,  0.00000000e+00,  0.00000000e+00,\n",
              "         0.00000000e+00,  0.00000000e+00,  0.00000000e+00,\n",
              "         0.00000000e+00,  0.00000000e+00, -1.00000000e+01,\n",
              "         0.00000000e+00,  1.00000000e+00, -0.00000000e+00,\n",
              "        -0.00000000e+00, -4.37113883e-08,  0.00000000e+00,\n",
              "         0.00000000e+00,  0.00000000e+00,  0.00000000e+00,\n",
              "         0.00000000e+00,  0.00000000e+00,  4.23935318e+00,\n",
              "        -1.00000000e+00, -6.78438568e+00,  0.00000000e+00,\n",
              "         1.00000000e+00,  0.00000000e+00,  4.06371087e-01]])"
            ]
          },
          "execution_count": 8,
          "metadata": {},
          "output_type": "execute_result"
        }
      ],
      "source": [
        "env_info.vector_observations"
      ]
    },
    {
      "cell_type": "code",
      "execution_count": 9,
      "metadata": {
        "pycharm": {}
      },
      "outputs": [
        {
          "data": {
            "text/plain": [
              "(20, 33)"
            ]
          },
          "execution_count": 9,
          "metadata": {},
          "output_type": "execute_result"
        }
      ],
      "source": [
        "env_info.vector_observations.shape"
      ]
    },
    {
      "cell_type": "code",
      "execution_count": 10,
      "metadata": {
        "pycharm": {}
      },
      "outputs": [
        {
          "name": "stdout",
          "output_type": "stream",
          "text": [
            "shape of actions (num_agents, action_size): (20, 4)\n"
          ]
        },
        {
          "data": {
            "text/plain": [
              "array([[ 1.        , -0.58026354,  0.17499036,  0.36263835],\n",
              "       [ 0.62718509, -1.        ,  0.29520705, -0.16060445],\n",
              "       [-1.        ,  0.61642999, -0.22162874,  0.82482182],\n",
              "       [-0.07205368, -1.        ,  0.23815352, -0.80062625],\n",
              "       [-1.        , -0.45678606, -1.        ,  0.49862088],\n",
              "       [-1.        , -0.18719024, -0.66495392,  0.32752236],\n",
              "       [ 0.19073754, -0.85908296,  1.        , -0.85201024],\n",
              "       [ 0.38171561, -0.8301216 , -1.        , -1.        ],\n",
              "       [-1.        , -1.        , -0.48952456, -0.7094593 ],\n",
              "       [ 0.54547547,  0.78236618, -0.37382407, -0.00419874],\n",
              "       [ 1.        ,  0.45122777, -0.24795842, -1.        ],\n",
              "       [-0.67193007, -1.        ,  0.45255303, -0.05874384],\n",
              "       [-0.10343403, -0.56449863,  0.2501341 ,  0.96914256],\n",
              "       [-0.70753706, -0.33232339, -0.35414954,  0.26747275],\n",
              "       [ 0.6547775 ,  1.        , -1.        , -0.58806231],\n",
              "       [ 0.01875909, -0.61297403, -0.26552105,  0.3389132 ],\n",
              "       [ 0.78999239, -1.        , -0.19397062,  0.61437173],\n",
              "       [-0.45753208, -0.14508931, -0.78810682,  0.34754393],\n",
              "       [ 0.31500332,  0.71572661, -0.01976058, -0.73134459],\n",
              "       [-1.        , -0.49825477, -0.12051609, -1.        ]])"
            ]
          },
          "execution_count": 10,
          "metadata": {},
          "output_type": "execute_result"
        }
      ],
      "source": [
        "actions \u003d np.random.randn(num_agents, action_size) # select an action (for each agent)\n",
        "actions \u003d np.clip(actions, -1, 1)                  # all actions between -1 and 1\n",
        "print(\"shape of actions (num_agents, action_size): {}\".format(actions.shape))\n",
        "actions"
      ]
    },
    {
      "cell_type": "code",
      "execution_count": 13,
      "metadata": {
        "pycharm": {}
      },
      "outputs": [
        {
          "data": {
            "text/plain": [
              "{\u0027ReacherBrain\u0027: \u003cunityagents.brain.BrainInfo at 0x10f4d0e48\u003e}"
            ]
          },
          "execution_count": 13,
          "metadata": {},
          "output_type": "execute_result"
        }
      ],
      "source": [
        "env.step(actions)"
      ]
    },
    {
      "cell_type": "code",
      "execution_count": null,
      "metadata": {
        "pycharm": {}
      },
      "outputs": [],
      "source": [
        "# reset the environment\n",
        "env_info \u003d env.reset(train_mode\u003dTrue)[brain_name]\n",
        "\n",
        "# number of agents\n",
        "num_agents \u003d len(env_info.agents)\n",
        "print(\u0027Number of agents:\u0027, num_agents)\n",
        "\n",
        "# size of each action\n",
        "action_size \u003d brain.vector_action_space_size\n",
        "print(\u0027Size of each action:\u0027, action_size)\n",
        "\n",
        "# examine the state space \n",
        "states \u003d env_info.vector_observations\n",
        "state_size \u003d states.shape[1]\n",
        "print(\u0027There are {} agents. Each observes a state with length: {}\u0027.format(states.shape[0], state_size))\n",
        "print(\u0027The state for the first agent looks like:\u0027, states[0])"
      ]
    },
    {
      "cell_type": "markdown",
      "metadata": {
        "pycharm": {}
      },
      "source": [
        "### 3. Take Random Actions in the Environment\n",
        "\n",
        "In the next code cell, you will learn how to use the Python API to control the agent and receive feedback from the environment.\n",
        "\n",
        "Once this cell is executed, you will watch the agent\u0027s performance, if it selects an action at random with each time step.  A window should pop up that allows you to observe the agent, as it moves through the environment.  \n",
        "\n",
        "Of course, as part of the project, you\u0027ll have to change the code so that the agent is able to use its experience to gradually choose better actions when interacting with the environment!"
      ]
    },
    {
      "cell_type": "code",
      "execution_count": null,
      "metadata": {
        "pycharm": {}
      },
      "outputs": [],
      "source": [
        "env_info \u003d env.reset(train_mode\u003dFalse)[brain_name]     # reset the environment    \n",
        "states \u003d env_info.vector_observations                  # get the current state (for each agent)\n",
        "scores \u003d np.zeros(num_agents)                          # initialize the score (for each agent)\n",
        "while True:\n",
        "    actions \u003d np.random.randn(num_agents, action_size) # select an action (for each agent)\n",
        "    actions \u003d np.clip(actions, -1, 1)                  # all actions between -1 and 1\n",
        "    env_info \u003d env.step(actions)[brain_name]           # send all actions to tne environment\n",
        "    next_states \u003d env_info.vector_observations         # get next state (for each agent)\n",
        "    rewards \u003d env_info.rewards                         # get reward (for each agent)\n",
        "    dones \u003d env_info.local_done                        # see if episode finished\n",
        "    scores +\u003d env_info.rewards                         # update the score (for each agent)\n",
        "    states \u003d next_states                               # roll over states to next time step\n",
        "    if np.any(dones):                                  # exit loop if episode finished\n",
        "        break\n",
        "print(\u0027Total score (averaged over agents) this episode: {}\u0027.format(np.mean(scores)))"
      ]
    },
    {
      "cell_type": "markdown",
      "metadata": {
        "pycharm": {}
      },
      "source": [
        "When finished, you can close the environment."
      ]
    },
    {
      "cell_type": "code",
      "execution_count": null,
      "metadata": {
        "pycharm": {}
      },
      "outputs": [],
      "source": [
        "env.close()"
      ]
    },
    {
      "cell_type": "markdown",
      "metadata": {
        "pycharm": {}
      },
      "source": [
        "### 4. It\u0027s Your Turn!\n",
        "\n",
        "Now it\u0027s your turn to train your own agent to solve the environment!  When training the environment, set `train_mode\u003dTrue`, so that the line for resetting the environment looks like the following:\n",
        "```python\n",
        "env_info \u003d env.reset(train_mode\u003dTrue)[brain_name]\n",
        "```"
      ]
    },
    {
      "cell_type": "code",
      "execution_count": 14,
      "metadata": {
        "pycharm": {}
      },
      "outputs": [],
      "source": [
        "import torch\n",
        "import torch.nn as nn"
      ]
    },
    {
      "cell_type": "code",
      "execution_count": null,
      "metadata": {
        "pycharm": {}
      },
      "outputs": [],
      "source": []
    }
  ],
  "metadata": {
    "kernelspec": {
      "display_name": "Python 3",
      "language": "python",
      "name": "python3"
    },
    "language_info": {
      "codemirror_mode": {
        "name": "ipython",
        "version": 3
      },
      "file_extension": ".py",
      "mimetype": "text/x-python",
      "name": "python",
      "nbconvert_exporter": "python",
      "pygments_lexer": "ipython3",
      "version": "3.6.4"
    }
  },
  "nbformat": 4,
  "nbformat_minor": 2
}